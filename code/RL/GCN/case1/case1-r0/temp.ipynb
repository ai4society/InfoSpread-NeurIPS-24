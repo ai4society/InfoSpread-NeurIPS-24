{
 "cells": [
  {
   "cell_type": "code",
   "execution_count": 3,
   "metadata": {},
   "outputs": [
    {
     "name": "stdout",
     "output_type": "stream",
     "text": [
      "No path found between 1 and 5 when excluding nodes [4].\n"
     ]
    }
   ],
   "source": [
    "import networkx as nx\n",
    "\n",
    "# Example graph creation\n",
    "G = nx.Graph()\n",
    "G.add_edges_from([(1, 2), (1, 3), (2, 4), (3, 4), (4, 5), (5, 6)])\n",
    "\n",
    "# Nodes to exclude\n",
    "exclude_nodes = [4]  # Example node to exclude\n",
    "\n",
    "# Create a subgraph without the nodes you want to exclude\n",
    "G_sub = G.copy()\n",
    "G_sub.remove_nodes_from(exclude_nodes)\n",
    "\n",
    "# Now find the shortest path in the subgraph\n",
    "start_node = 1\n",
    "end_node = 5\n",
    "try:\n",
    "    path = nx.shortest_path(G_sub, source=start_node, target=end_node)\n",
    "    print(f\"Shortest path excluding nodes {exclude_nodes}: {path}\")\n",
    "except nx.NetworkXNoPath:\n",
    "    print(f\"No path found between {start_node} and {end_node} when excluding nodes {exclude_nodes}.\")\n"
   ]
  },
  {
   "cell_type": "code",
   "execution_count": 10,
   "metadata": {},
   "outputs": [
    {
     "data": {
      "text/plain": [
       "[2, 3, 5]"
      ]
     },
     "execution_count": 10,
     "metadata": {},
     "output_type": "execute_result"
    }
   ],
   "source": [
    "list(G[4])"
   ]
  }
 ],
 "metadata": {
  "kernelspec": {
   "display_name": "Python 3",
   "language": "python",
   "name": "python3"
  },
  "language_info": {
   "codemirror_mode": {
    "name": "ipython",
    "version": 3
   },
   "file_extension": ".py",
   "mimetype": "text/x-python",
   "name": "python",
   "nbconvert_exporter": "python",
   "pygments_lexer": "ipython3",
   "version": "3.10.0"
  }
 },
 "nbformat": 4,
 "nbformat_minor": 2
}
